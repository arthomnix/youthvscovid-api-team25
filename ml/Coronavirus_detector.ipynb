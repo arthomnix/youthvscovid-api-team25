{
  "nbformat": 4,
  "nbformat_minor": 0,
  "metadata": {
    "colab": {
      "name": "Coronavirus detector.ipynb",
      "provenance": []
    },
    "kernelspec": {
      "name": "python3",
      "display_name": "Python 3"
    },
    "accelerator": "GPU"
  },
  "cells": [
    {
      "cell_type": "markdown",
      "metadata": {
        "id": "1IgE8vyVnQCW",
        "colab_type": "text"
      },
      "source": [
        "Import everything"
      ]
    },
    {
      "cell_type": "code",
      "metadata": {
        "id": "8pkkofd5e28q",
        "colab_type": "code",
        "colab": {
          "base_uri": "https://localhost:8080/",
          "height": 298
        },
        "outputId": "5eacbfec-78b1-4470-e1ca-0545e3a9a3b4"
      },
      "source": [
        "!pip install keras sklearn pandas\n",
        "from keras.preprocessing.text import Tokenizer\n",
        "from keras.preprocessing.sequence import pad_sequences\n",
        "from keras.models import Sequential\n",
        "from keras import layers\n",
        "from sklearn.model_selection import train_test_split\n",
        "from sklearn.metrics import confusion_matrix\n",
        "import pandas as pd"
      ],
      "execution_count": 2,
      "outputs": [
        {
          "output_type": "stream",
          "text": [
            "Requirement already satisfied: keras in /usr/local/lib/python3.6/dist-packages (2.3.1)\n",
            "Requirement already satisfied: sklearn in /usr/local/lib/python3.6/dist-packages (0.0)\n",
            "Requirement already satisfied: pandas in /usr/local/lib/python3.6/dist-packages (1.0.3)\n",
            "Requirement already satisfied: pyyaml in /usr/local/lib/python3.6/dist-packages (from keras) (3.13)\n",
            "Requirement already satisfied: h5py in /usr/local/lib/python3.6/dist-packages (from keras) (2.10.0)\n",
            "Requirement already satisfied: scipy>=0.14 in /usr/local/lib/python3.6/dist-packages (from keras) (1.4.1)\n",
            "Requirement already satisfied: keras-applications>=1.0.6 in /usr/local/lib/python3.6/dist-packages (from keras) (1.0.8)\n",
            "Requirement already satisfied: six>=1.9.0 in /usr/local/lib/python3.6/dist-packages (from keras) (1.12.0)\n",
            "Requirement already satisfied: numpy>=1.9.1 in /usr/local/lib/python3.6/dist-packages (from keras) (1.18.3)\n",
            "Requirement already satisfied: keras-preprocessing>=1.0.5 in /usr/local/lib/python3.6/dist-packages (from keras) (1.1.0)\n",
            "Requirement already satisfied: scikit-learn in /usr/local/lib/python3.6/dist-packages (from sklearn) (0.22.2.post1)\n",
            "Requirement already satisfied: pytz>=2017.2 in /usr/local/lib/python3.6/dist-packages (from pandas) (2018.9)\n",
            "Requirement already satisfied: python-dateutil>=2.6.1 in /usr/local/lib/python3.6/dist-packages (from pandas) (2.8.1)\n",
            "Requirement already satisfied: joblib>=0.11 in /usr/local/lib/python3.6/dist-packages (from scikit-learn->sklearn) (0.14.1)\n"
          ],
          "name": "stdout"
        },
        {
          "output_type": "stream",
          "text": [
            "Using TensorFlow backend.\n"
          ],
          "name": "stderr"
        }
      ]
    },
    {
      "cell_type": "markdown",
      "metadata": {
        "id": "_B0HsB1_nUNZ",
        "colab_type": "text"
      },
      "source": [
        "Load data"
      ]
    },
    {
      "cell_type": "code",
      "metadata": {
        "id": "nyIvdUj8nh3G",
        "colab_type": "code",
        "colab": {
          "base_uri": "https://localhost:8080/",
          "height": 72
        },
        "outputId": "6a6c9d80-7f58-41c3-d15e-b069358fa291"
      },
      "source": [
        "df = pd.read_csv('data.csv')\n",
        "df.columns = [\"label\",\"text\"]\n",
        "x = df['text'].values\n",
        "y = df['label'].values\n",
        "\n",
        "x_train, x_test, y_train, y_test = \\\n",
        " train_test_split(x, y, test_size=0.1, random_state=123)\n",
        "\n",
        "\n",
        "#Next, we'll convert text data into token vectors.\n",
        "\n",
        "tokenizer = Tokenizer(num_words=100)\n",
        "tokenizer.fit_on_texts(x)\n",
        "xtrain= tokenizer.texts_to_sequences(x_train)\n",
        "xtest= tokenizer.texts_to_sequences(x_test) \n",
        "\n",
        "\n",
        "#We'll apply a padding method to add zeros and set the fixed size into each vector.\n",
        "\n",
        "maxlen=10\n",
        "xtrain=pad_sequences(xtrain,padding='post', maxlen=maxlen)\n",
        "xtest=pad_sequences(xtest,padding='post', maxlen=maxlen)\n",
        "\n",
        "\n",
        "print(x_train[3])\n",
        "\n",
        "#Excellent, very satisfied\n",
        "\n",
        "print(xtrain[3])"
      ],
      "execution_count": 23,
      "outputs": [
        {
          "output_type": "stream",
          "text": [
            "Safari Is Now the Best Browser for Blocking Third-Party Tracking Yesterday’s release of Safari 13.1 introduces stricter third-party cookie blocking features that prevents websites from identifying Safari users and tracking their web activity. This means Apple’s default web browser is now the best choice for stopping third-…\n",
            "[16 20  5 85 31 10 23  1 93  9]\n"
          ],
          "name": "stdout"
        }
      ]
    },
    {
      "cell_type": "code",
      "metadata": {
        "id": "YIka9gPvsbrb",
        "colab_type": "code",
        "colab": {
          "base_uri": "https://localhost:8080/",
          "height": 364
        },
        "outputId": "dffad1b7-252c-4553-f464-af65e6e04d24"
      },
      "source": [
        "embedding_dim=50\n",
        "vocab_size=500\n",
        "model=Sequential()\n",
        "model.add(layers.Embedding(input_dim=vocab_size,\n",
        "      output_dim=embedding_dim,\n",
        "      input_length=maxlen))\n",
        "model.add(layers.LSTM(units=50,return_sequences=True))\n",
        "model.add(layers.LSTM(units=10))\n",
        "model.add(layers.Dropout(0.5))\n",
        "model.add(layers.Dense(8))\n",
        "model.add(layers.Dense(1, activation=\"sigmoid\"))\n",
        "model.compile(optimizer=\"adam\", loss=\"binary_crossentropy\", \n",
        "     metrics=['accuracy'])\n",
        "model.summary()"
      ],
      "execution_count": 24,
      "outputs": [
        {
          "output_type": "stream",
          "text": [
            "Model: \"sequential_5\"\n",
            "_________________________________________________________________\n",
            "Layer (type)                 Output Shape              Param #   \n",
            "=================================================================\n",
            "embedding_4 (Embedding)      (None, 10, 50)            25000     \n",
            "_________________________________________________________________\n",
            "lstm_7 (LSTM)                (None, 10, 50)            20200     \n",
            "_________________________________________________________________\n",
            "lstm_8 (LSTM)                (None, 10)                2440      \n",
            "_________________________________________________________________\n",
            "dropout_4 (Dropout)          (None, 10)                0         \n",
            "_________________________________________________________________\n",
            "dense_7 (Dense)              (None, 8)                 88        \n",
            "_________________________________________________________________\n",
            "dense_8 (Dense)              (None, 1)                 9         \n",
            "=================================================================\n",
            "Total params: 47,737\n",
            "Trainable params: 47,737\n",
            "Non-trainable params: 0\n",
            "_________________________________________________________________\n"
          ],
          "name": "stdout"
        }
      ]
    },
    {
      "cell_type": "code",
      "metadata": {
        "id": "b_PGVhfusulu",
        "colab_type": "code",
        "colab": {
          "base_uri": "https://localhost:8080/",
          "height": 434
        },
        "outputId": "f7adf50d-3c63-4138-8f87-31b7b8cbda87"
      },
      "source": [
        "model.fit(xtrain,y_train, epochs=10, batch_size=16, verbose=1)\n",
        "\n",
        "loss, acc = model.evaluate(xtrain, y_train, verbose=1)\n",
        "print(\"Training Accuracy: \", acc)\n",
        "\n",
        " \n",
        "loss, acc = model.evaluate(xtest, y_test, verbose=1)\n",
        "print(\"Test Accuracy: \", acc)\n"
      ],
      "execution_count": 30,
      "outputs": [
        {
          "output_type": "stream",
          "text": [
            "Epoch 1/10\n",
            "208/208 [==============================] - 1s 3ms/step - loss: 0.0620 - accuracy: 0.9904\n",
            "Epoch 2/10\n",
            "208/208 [==============================] - 1s 4ms/step - loss: 0.0611 - accuracy: 0.9904\n",
            "Epoch 3/10\n",
            "208/208 [==============================] - 1s 3ms/step - loss: 0.0495 - accuracy: 0.9904\n",
            "Epoch 4/10\n",
            "208/208 [==============================] - 1s 3ms/step - loss: 0.0722 - accuracy: 0.9904\n",
            "Epoch 5/10\n",
            "208/208 [==============================] - 1s 4ms/step - loss: 0.0584 - accuracy: 0.9904\n",
            "Epoch 6/10\n",
            "208/208 [==============================] - 1s 3ms/step - loss: 0.0572 - accuracy: 0.9904\n",
            "Epoch 7/10\n",
            "208/208 [==============================] - 1s 4ms/step - loss: 0.0700 - accuracy: 0.9904\n",
            "Epoch 8/10\n",
            "208/208 [==============================] - 1s 4ms/step - loss: 0.0592 - accuracy: 0.9904\n",
            "Epoch 9/10\n",
            "208/208 [==============================] - 1s 4ms/step - loss: 0.0675 - accuracy: 0.9904\n",
            "Epoch 10/10\n",
            "208/208 [==============================] - 1s 4ms/step - loss: 0.0578 - accuracy: 0.9904\n",
            "208/208 [==============================] - 0s 184us/step\n",
            "Training Accuracy:  0.9903846383094788\n",
            "24/24 [==============================] - 0s 393us/step\n",
            "Test Accuracy:  0.8333333134651184\n"
          ],
          "name": "stdout"
        }
      ]
    },
    {
      "cell_type": "code",
      "metadata": {
        "id": "wrSFQ8hvtNDS",
        "colab_type": "code",
        "colab": {
          "base_uri": "https://localhost:8080/",
          "height": 489
        },
        "outputId": "cb1e5b2a-5981-4a67-8e40-d1678005be89"
      },
      "source": [
        "ypred=model.predict(xtest)\n",
        "\n",
        "ypred[ypred>0.5]=1 \n",
        "ypred[ypred<=0.5]=0 \n",
        "cm = confusion_matrix(y_test, ypred)\n",
        "print(cm)\n",
        "\n",
        "result=zip(x_test, y_test, ypred)\n",
        "for i in result:\n",
        " print(i)"
      ],
      "execution_count": 28,
      "outputs": [
        {
          "output_type": "stream",
          "text": [
            "[[18  3]\n",
            " [ 1  2]]\n",
            "('Use Permissions to Keep Scammy Apps Off Your Android Google has removed yet another batch of awful Android apps from the Google Play Store for breaking the company’s terms of service. The roundup includes 101 apps belonging to a single group known as the 2NAD network which used 27 fake developer names as a fro…', 0, array([0.], dtype=float32))\n",
            "(\"Women's FA Cup: Chelsea’s Magdalena Eriksson scores injury-time own goal against Man City Magdalena Eriksson scores an injury-time own goal to gift Manchester City victory against Chelsea in their 2019 Women's FA Cup semi-final.\", 0, array([0.], dtype=float32))\n",
            "(\"Apollo 13: Enhanced images reveal life on stricken spacecraft Enhanced images reveal life aboard Nasa's stricken Apollo 13 spacecraft in unprecedented detail.\", 0, array([0.], dtype=float32))\n",
            "(\"US announces millions in aid for resource-rich Greenland The Trump administration will also open a consulate in the territory. amid competition for Greenland's resources.\", 0, array([0.], dtype=float32))\n",
            "('MoMA Now Offers Free Art Classes Online While New York’s Museum of Modern Art is closed to the public right now its virtual doors are open in the form of a few free classes from the museum. Read more...', 0, array([0.], dtype=float32))\n",
            "('Use a Fork Instead of a Spoon to Mix Chocolate Milk A tall cold glass of chocolate milk is a nice treat for young and old alike but most people use a spoon to stir it which and a spoon I am sad to say is an inferior stirring implement. What’s the correct tool you ask? Why a fork of course! Read more...', 0, array([0.], dtype=float32))\n",
            "(\"China ZTE executive quits amid sex assault allegations Bao Yuming steps down from the tech giant's board after reports of a police investigation.\", 0, array([0.], dtype=float32))\n",
            "('Watch Shows on Hulu Disney+ and More With Your Friends Using This Chrome Extension By now you’ve probably heard of Netflix Party the Chrome extension that allows you to watch a Netflix show simultaneously with your friends. It can be great for that virtual movie night with friends but also a bit limiting since it only works with Netflix. …', 0, array([0.], dtype=float32))\n",
            "(\"Sheikh Mujibur Rahman: Army officer hanged for murder of Bangladesh's founding president Abdul Majed spent 25 years on the run after he was found guilty of murdering Sheikh Mujibur Rahman.\", 0, array([0.], dtype=float32))\n",
            "(\"Coronavirus: Is pandemic being used for power grab in Europe? Some of Europe's leaders stand accused of taking advantage of a health crisis.\", 1, array([1.], dtype=float32))\n",
            "('Delete These Malware-Filled Android Apps Aimed at Kids Once again a batch of Android apps managed to make their way onto the Google Play Store and infect more than one million devices with malware. I don’t mean to be glib about it; it’s a problem and it’s happening with enough frequency and affecting enough pe…', 0, array([0.], dtype=float32))\n",
            "('How to Connect Xbox and PlayStation Controllers to Your Apple Device One of the lesser-known features added in last year’s iOS 13 iPadOS 13 macOS Catalina and tvOS 13 updates was the ability to connect Xbox One and PlayStation 4 controllers to your Apple devices. In the video above I show you how to pair these controllers …', 0, array([0.], dtype=float32))\n",
            "(\"Why Your Replacement AirPod Can't Pair Up AirPods are easy to misplace we know. If you recently had to acquire a single replacement AirPod earbud you might assume that all is now well—your lonely AirPod now has a friend again. However a number of Apple fans are reporting that their replacement Air…\", 0, array([1.], dtype=float32))\n",
            "('You Deserve Better Than Chicken Breasts During These Trying Times I have not been to the grocery store in about 10 days now but the last time I was there I could not help but notice the distinct lack of boneless skinless chicken breast. Actually all of the neat boneless cuts of meat were running quite low and while I u…', 0, array([0.], dtype=float32))\n",
            "(\"First four Classics of season postponed including Derby Racing's first four Classics of the season - including the Derby at Epsom - have been postponed because of the coronavirus pandemic.\", 1, array([0.], dtype=float32))\n",
            "(\"Deadly olive tree disease across Europe 'could costs billions' A deadly pathogen affecting Europe's olive trees could cost over 20 billion euros.\", 0, array([0.], dtype=float32))\n",
            "('Coronavirus: Chinese explorers start Everest climb amid pandemic China has limited climbs to its nationals while Nepal has cancelled all expeditions.', 1, array([1.], dtype=float32))\n",
            "('If You Want Grocery Delivery Get on the Amazon Fresh and Whole Foods Waiting Lists Now If you were thinking about trying Amazon Fresh or Whole Foods Market delivery or pickup services for the first time be aware that you might have to spend some time on a waiting list before you can use either service to shop for groceries—so you might want to…', 0, array([0.], dtype=float32))\n",
            "(\"BBC Sport's five things to do today Our team give you something to read watch try listen and take on - all in one place.\", 0, array([0.], dtype=float32))\n",
            "('How Dua Lipa and The Weeknd are bringing the 80s back… again The 1980s are once again influencing some of the world’s biggest artists like Dua Lipa and The Weeknd.', 0, array([0.], dtype=float32))\n",
            "(\"MOTD Top 10: The Premier League's most bonkers moments Gary Lineker Alan Shearer and Ian Wright debate the Premier League's top 10 most bonkers moments and you can rank yours too.\", 0, array([1.], dtype=float32))\n",
            "('Haney \\'rejects discrimination of any kind\\' after \\'white boy\\' comment Devin Haney says he is not racist and rejects discrimination after saying he would never lose to a white boy\".\"', 0, array([0.], dtype=float32))\n",
            "(\"How to Install Microsoft's Big Windows 10 May Update Right Now Microsoft releases two big Windows 10 overhauls every year and the first of 2020's major updates Windows 10 Version 2004 is just a couple of weeks away—but we’ll show you how to install it early. Read more...\", 0, array([0.], dtype=float32))\n",
            "(\"Now's the Time to Get a Pen Pal As cabin fever sets in and pajama pants become our everyday wear everyone is trying to find ways to be social while distancing themselves. For some of us Zoom calls FaceTime sessions and social media have kept us in the loop enough the people closest to u…\", 0, array([1.], dtype=float32))\n"
          ],
          "name": "stdout"
        }
      ]
    }
  ]
}